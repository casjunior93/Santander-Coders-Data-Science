{
 "cells": [
  {
   "cell_type": "code",
   "execution_count": 24,
   "id": "826bd853",
   "metadata": {},
   "outputs": [],
   "source": [
    "#Operadores aritmeticos"
   ]
  },
  {
   "cell_type": "code",
   "execution_count": 25,
   "id": "5047ed29",
   "metadata": {},
   "outputs": [],
   "source": [
    "x = 50\n",
    "y = 3"
   ]
  },
  {
   "cell_type": "code",
   "execution_count": 26,
   "id": "da149eae",
   "metadata": {},
   "outputs": [
    {
     "name": "stdout",
     "output_type": "stream",
     "text": [
      "53\n",
      "47\n",
      "150\n",
      "16.67\n"
     ]
    }
   ],
   "source": [
    "print(x+y)\n",
    "print(x-y)\n",
    "print(x*y)\n",
    "print(\"{:.2f}\" . format(x / y))"
   ]
  },
  {
   "cell_type": "code",
   "execution_count": 27,
   "id": "f0a48af8",
   "metadata": {},
   "outputs": [
    {
     "name": "stdout",
     "output_type": "stream",
     "text": [
      "125000\n",
      "16\n",
      "2\n"
     ]
    }
   ],
   "source": [
    "print(x ** y)\n",
    "print(x//y)\n",
    "print(x % y)"
   ]
  },
  {
   "cell_type": "code",
   "execution_count": 28,
   "id": "49b3991b",
   "metadata": {},
   "outputs": [],
   "source": [
    "tem_cafe = True\n",
    "tem_pao = False"
   ]
  },
  {
   "cell_type": "code",
   "execution_count": 29,
   "id": "0473fd78",
   "metadata": {},
   "outputs": [
    {
     "name": "stdout",
     "output_type": "stream",
     "text": [
      "False\n"
     ]
    }
   ],
   "source": [
    "print(not tem_cafe)"
   ]
  },
  {
   "cell_type": "code",
   "execution_count": 30,
   "id": "b7736aa6",
   "metadata": {},
   "outputs": [],
   "source": [
    "#operadores lógicos"
   ]
  },
  {
   "cell_type": "code",
   "execution_count": 31,
   "id": "1b6d62a7",
   "metadata": {},
   "outputs": [
    {
     "name": "stdout",
     "output_type": "stream",
     "text": [
      "True\n"
     ]
    }
   ],
   "source": [
    "print(tem_cafe or tem_pao)"
   ]
  },
  {
   "cell_type": "code",
   "execution_count": 32,
   "id": "cbbffe29",
   "metadata": {},
   "outputs": [
    {
     "name": "stdout",
     "output_type": "stream",
     "text": [
      "False\n"
     ]
    }
   ],
   "source": [
    "print(tem_cafe and tem_pao)"
   ]
  },
  {
   "cell_type": "code",
   "execution_count": 33,
   "id": "9537d2bc",
   "metadata": {},
   "outputs": [],
   "source": [
    "#Operadores relacionais ou de comparação"
   ]
  },
  {
   "cell_type": "code",
   "execution_count": 34,
   "id": "038ed969",
   "metadata": {},
   "outputs": [],
   "source": [
    "dolar = 5.3\n",
    "real = 1"
   ]
  },
  {
   "cell_type": "code",
   "execution_count": 35,
   "id": "e849ca0e",
   "metadata": {},
   "outputs": [
    {
     "name": "stdout",
     "output_type": "stream",
     "text": [
      "True\n",
      "False\n",
      "False\n",
      "True\n",
      "False\n",
      "True\n"
     ]
    }
   ],
   "source": [
    "print(dolar > real)\n",
    "print(dolar < real)\n",
    "print(dolar == real)\n",
    "print(dolar >= real)\n",
    "print(dolar <= real)\n",
    "print(dolar != real)"
   ]
  },
  {
   "cell_type": "code",
   "execution_count": null,
   "id": "2741b977",
   "metadata": {},
   "outputs": [],
   "source": []
  }
 ],
 "metadata": {
  "kernelspec": {
   "display_name": "Python 3 (ipykernel)",
   "language": "python",
   "name": "python3"
  },
  "language_info": {
   "codemirror_mode": {
    "name": "ipython",
    "version": 3
   },
   "file_extension": ".py",
   "mimetype": "text/x-python",
   "name": "python",
   "nbconvert_exporter": "python",
   "pygments_lexer": "ipython3",
   "version": "3.8.10"
  }
 },
 "nbformat": 4,
 "nbformat_minor": 5
}
