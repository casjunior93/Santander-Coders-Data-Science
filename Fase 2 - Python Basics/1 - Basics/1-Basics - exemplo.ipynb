{
 "cells": [
  {
   "cell_type": "code",
   "execution_count": 2,
   "id": "5ce618ee",
   "metadata": {},
   "outputs": [
    {
     "output_type": "stream",
     "name": "stdout",
     "text": [
      "O montante economizado em um ano é: 6000.00\n"
     ]
    }
   ],
   "source": [
    "salario_mensal = input(\"Digite o seu salário mensal: \")\n",
    "salario_mensal = float(salario_mensal)\n",
    "gasto_mensal = input(\"Digite o seu gasto mensal: \")\n",
    "gasto_mensal = float(gasto_mensal)\n",
    "\n",
    "salario_total = salario_mensal * 12\n",
    "gasto_total = gasto_mensal * 12\n",
    "\n",
    "montante_economizado = salario_total - gasto_total\n",
    "print(\"O montante economizado em um ano é: {:.2f}\".format(montante_economizado))"
   ]
  },
  {
   "cell_type": "code",
   "execution_count": null,
   "id": "ac3b502b",
   "metadata": {},
   "outputs": [],
   "source": []
  }
 ],
 "metadata": {
  "kernelspec": {
   "name": "python3",
   "display_name": "Python 3.8.10 64-bit"
  },
  "language_info": {
   "codemirror_mode": {
    "name": "ipython",
    "version": 3
   },
   "file_extension": ".py",
   "mimetype": "text/x-python",
   "name": "python",
   "nbconvert_exporter": "python",
   "pygments_lexer": "ipython3",
   "version": "3.8.10"
  },
  "interpreter": {
   "hash": "31f2aee4e71d21fbe5cf8b01ff0e069b9275f58929596ceb00d14d90e3e16cd6"
  }
 },
 "nbformat": 4,
 "nbformat_minor": 5
}