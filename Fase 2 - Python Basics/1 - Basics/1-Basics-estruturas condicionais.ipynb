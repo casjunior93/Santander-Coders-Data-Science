{
 "cells": [
  {
   "cell_type": "code",
   "execution_count": 4,
   "id": "d1d960ad",
   "metadata": {},
   "outputs": [
    {
     "name": "stdout",
     "output_type": "stream",
     "text": [
      "Digite o valor da corrida: 20\n",
      "Pague a corrida\n"
     ]
    }
   ],
   "source": [
    "valor_passagem = 4.30\n",
    "\n",
    "valor_corrida = input(\"Digite o valor da corrida: \")\n",
    "valor_corrida = float(valor_corrida)\n",
    "\n",
    "if valor_corrida <= valor_passagem * 5:\n",
    "    print(\"Pague a corrida\")\n",
    "elif valor_corrida > valor_passagem * 5:\n",
    "    print(\"Ir de ônibus\")"
   ]
  },
  {
   "cell_type": "code",
   "execution_count": 15,
   "id": "d5c04957",
   "metadata": {},
   "outputs": [
    {
     "name": "stdout",
     "output_type": "stream",
     "text": [
      "Digite o valor da corrida: 10\n",
      "Pague a corrida\n"
     ]
    }
   ],
   "source": [
    "valor_passagem = 2\n",
    "\n",
    "valor_corrida = input(\"Digite o valor da corrida: \")\n",
    "valor_corrida = float(valor_corrida)\n",
    "\n",
    "if valor_corrida <= valor_passagem * 5:\n",
    "    print(\"Pague a corrida\")\n",
    "elif valor_corrida <= valor_passagem * 6:\n",
    "    print(\"Aguarde um pouco\")\n",
    "else:\n",
    "    print(\"Pague o ônibus\")"
   ]
  },
  {
   "cell_type": "code",
   "execution_count": null,
   "id": "b7c8a10f",
   "metadata": {},
   "outputs": [],
   "source": []
  }
 ],
 "metadata": {
  "kernelspec": {
   "display_name": "Python 3 (ipykernel)",
   "language": "python",
   "name": "python3"
  },
  "language_info": {
   "codemirror_mode": {
    "name": "ipython",
    "version": 3
   },
   "file_extension": ".py",
   "mimetype": "text/x-python",
   "name": "python",
   "nbconvert_exporter": "python",
   "pygments_lexer": "ipython3",
   "version": "3.8.10"
  }
 },
 "nbformat": 4,
 "nbformat_minor": 5
}
