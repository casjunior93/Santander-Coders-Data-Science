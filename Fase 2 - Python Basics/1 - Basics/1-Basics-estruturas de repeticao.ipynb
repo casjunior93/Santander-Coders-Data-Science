{
 "cells": [
  {
   "cell_type": "markdown",
   "id": "e3a176c0",
   "metadata": {},
   "source": [
    "#While"
   ]
  },
  {
   "cell_type": "code",
   "execution_count": 1,
   "id": "00c77d2a",
   "metadata": {},
   "outputs": [
    {
     "name": "stdout",
     "output_type": "stream",
     "text": [
      "1 item limpo\n",
      "2 itens limpos\n",
      "3 itens limpos\n",
      "4 itens limpos\n",
      "5 itens limpos\n",
      "6 itens limpos\n",
      "7 itens limpos\n",
      "8 itens limpos\n",
      "9 itens limpos\n",
      "10 itens limpos\n",
      "Louça lavada\n"
     ]
    }
   ],
   "source": [
    "contador = 0\n",
    "while contador < 10:\n",
    "    contador += 1\n",
    "    if contador == 1:\n",
    "        print(contador, \"item limpo\")\n",
    "    else:\n",
    "        print(contador, \"itens limpos\")\n",
    "print(\"Louça lavada\")"
   ]
  },
  {
   "cell_type": "code",
   "execution_count": 3,
   "id": "99b8c7ab",
   "metadata": {},
   "outputs": [
    {
     "name": "stdout",
     "output_type": "stream",
     "text": [
      "1 item limpo\n",
      "2 itens limpos\n",
      "3 itens limpos\n",
      "4 itens limpos\n",
      "5 itens limpos\n",
      "6 itens limpos\n",
      "7 itens limpos\n",
      "8 itens limpos\n",
      "9 itens limpos\n",
      "10 itens limpos\n",
      "Louça limpa!\n"
     ]
    }
   ],
   "source": [
    "contador = 0\n",
    "while True:\n",
    "    if contador < 10:\n",
    "        contador += 1\n",
    "        if contador == 1:\n",
    "            print(contador, \"item limpo\")\n",
    "        else:\n",
    "            print(contador, \"itens limpos\")\n",
    "    else:\n",
    "        print(\"Louça limpa!\")\n",
    "        break"
   ]
  },
  {
   "cell_type": "markdown",
   "id": "89a3c42b",
   "metadata": {},
   "source": [
    "#While para validação de entrada"
   ]
  },
  {
   "cell_type": "code",
   "execution_count": 5,
   "id": "a4ad02f7",
   "metadata": {},
   "outputs": [
    {
     "name": "stdout",
     "output_type": "stream",
     "text": [
      "Digite a senha: oi\n",
      "Senha inválida. Digite a senha novamente: carlos\n",
      "Acesso permitido\n"
     ]
    }
   ],
   "source": [
    "texto = input(\"Digite a senha: \")\n",
    "\n",
    "while texto != \"carlos\":\n",
    "    texto = input(\"Senha inválida. Digite a senha novamente: \")\n",
    "print(\"Acesso permitido\")"
   ]
  },
  {
   "cell_type": "markdown",
   "id": "fd2142c1",
   "metadata": {},
   "source": [
    "#Uso do continue"
   ]
  },
  {
   "cell_type": "code",
   "execution_count": 7,
   "id": "219ef3a8",
   "metadata": {},
   "outputs": [
    {
     "name": "stdout",
     "output_type": "stream",
     "text": [
      "2 itens limpos\n",
      "3 itens limpos\n",
      "4 itens limpos\n",
      "5 itens limpos\n",
      "6 itens limpos\n",
      "7 itens limpos\n",
      "8 itens limpos\n",
      "9 itens limpos\n",
      "10 itens limpos\n",
      "Louça limpa!\n"
     ]
    }
   ],
   "source": [
    "contador = 0\n",
    "while True:\n",
    "    if contador < 10:\n",
    "        contador += 1\n",
    "        if contador == 1:\n",
    "            continue\n",
    "        print(contador, \"itens limpos\")\n",
    "    else:\n",
    "        print(\"Louça limpa!\")\n",
    "        break"
   ]
  },
  {
   "cell_type": "code",
   "execution_count": null,
   "id": "9ba69e80",
   "metadata": {},
   "outputs": [],
   "source": []
  }
 ],
 "metadata": {
  "kernelspec": {
   "display_name": "Python 3 (ipykernel)",
   "language": "python",
   "name": "python3"
  },
  "language_info": {
   "codemirror_mode": {
    "name": "ipython",
    "version": 3
   },
   "file_extension": ".py",
   "mimetype": "text/x-python",
   "name": "python",
   "nbconvert_exporter": "python",
   "pygments_lexer": "ipython3",
   "version": "3.8.10"
  }
 },
 "nbformat": 4,
 "nbformat_minor": 5
}
