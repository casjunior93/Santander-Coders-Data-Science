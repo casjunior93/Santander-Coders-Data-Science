{
 "cells": [
  {
   "cell_type": "markdown",
   "id": "3bf8e271",
   "metadata": {},
   "source": [
    "# Strings"
   ]
  },
  {
   "cell_type": "code",
   "execution_count": 1,
   "id": "3683a361",
   "metadata": {},
   "outputs": [
    {
     "name": "stdout",
     "output_type": "stream",
     "text": [
      "Google\n"
     ]
    }
   ],
   "source": [
    "empresa = \"Google\"\n",
    "print(empresa)"
   ]
  },
  {
   "cell_type": "markdown",
   "id": "49f7cf63",
   "metadata": {},
   "source": [
    "# Caractere de escape"
   ]
  },
  {
   "cell_type": "code",
   "execution_count": 3,
   "id": "72728e46",
   "metadata": {},
   "outputs": [
    {
     "name": "stdout",
     "output_type": "stream",
     "text": [
      "O professor Pietro da Let's Code disse: \"Hoje a pizza é por minha conta\"\n"
     ]
    }
   ],
   "source": [
    "frase = \"O professor Pietro da Let's Code disse: \\\"Hoje a pizza é por minha conta\\\"\"\n",
    "print(frase)"
   ]
  },
  {
   "cell_type": "markdown",
   "id": "86c7dc7f",
   "metadata": {},
   "source": [
    "### quebra de linha"
   ]
  },
  {
   "cell_type": "code",
   "execution_count": 4,
   "id": "202a3f70",
   "metadata": {},
   "outputs": [
    {
     "name": "stdout",
     "output_type": "stream",
     "text": [
      "O professor Pietro \n",
      " da Let's Code disse: \n",
      "\"Hoje a pizza é por minha conta\"\n"
     ]
    }
   ],
   "source": [
    "frase = \"O professor Pietro \\n da Let's Code disse: \\n\\\"Hoje a pizza é por minha conta\\\"\"\n",
    "print(frase)"
   ]
  },
  {
   "cell_type": "markdown",
   "id": "6220bdcd",
   "metadata": {},
   "source": [
    "### tabulação"
   ]
  },
  {
   "cell_type": "code",
   "execution_count": 5,
   "id": "e18cc81a",
   "metadata": {},
   "outputs": [
    {
     "name": "stdout",
     "output_type": "stream",
     "text": [
      "O professor Pietro da Let's Code disse:\n",
      "\t\"Hoje a pizza é por minha conta\"\n"
     ]
    }
   ],
   "source": [
    "frase = \"O professor Pietro da Let's Code disse:\\n\\t\\\"Hoje a pizza é por minha conta\\\"\"\n",
    "print(frase)"
   ]
  },
  {
   "cell_type": "markdown",
   "id": "d3e98ef5",
   "metadata": {},
   "source": [
    "### representando a barra"
   ]
  },
  {
   "cell_type": "code",
   "execution_count": 6,
   "id": "01a165bf",
   "metadata": {},
   "outputs": [
    {
     "name": "stdout",
     "output_type": "stream",
     "text": [
      "O professor \\ Pietro da Let's Code disse: \"Hoje a pizza é por minha conta\"\n"
     ]
    }
   ],
   "source": [
    "frase = \"O professor \\\\ Pietro da Let's Code disse: \\\"Hoje a pizza é por minha conta\\\"\"\n",
    "print(frase)"
   ]
  },
  {
   "cell_type": "code",
   "execution_count": 7,
   "id": "2ef53e59",
   "metadata": {},
   "outputs": [
    {
     "name": "stdout",
     "output_type": "stream",
     "text": [
      "g\n"
     ]
    }
   ],
   "source": [
    "empresa = \"Google\"\n",
    "print(empresa[3])"
   ]
  },
  {
   "cell_type": "code",
   "execution_count": 8,
   "id": "95b7cf07",
   "metadata": {},
   "outputs": [
    {
     "name": "stdout",
     "output_type": "stream",
     "text": [
      "Goo\n"
     ]
    }
   ],
   "source": [
    "print(empresa[:3])"
   ]
  },
  {
   "cell_type": "markdown",
   "id": "ba7b9063",
   "metadata": {},
   "source": [
    "# Métodos de lista"
   ]
  },
  {
   "cell_type": "code",
   "execution_count": 9,
   "id": "c7171232",
   "metadata": {},
   "outputs": [
    {
     "name": "stdout",
     "output_type": "stream",
     "text": [
      "['São Paulo', ' Belo Horizonte', ' Rio de Janeiro', ' Brasília']\n"
     ]
    }
   ],
   "source": [
    "nomes_cidades = \"São Paulo, Belo Horizonte, Rio de Janeiro, Brasília\"\n",
    "lista_cidades = nomes_cidades.split(\",\")\n",
    "print(lista_cidades)"
   ]
  },
  {
   "cell_type": "code",
   "execution_count": 10,
   "id": "9672e8cc",
   "metadata": {},
   "outputs": [
    {
     "name": "stdout",
     "output_type": "stream",
     "text": [
      "MENU\n"
     ]
    }
   ],
   "source": [
    "cabecalho = \"    MENU    \"\n",
    "print(cabecalho.strip())"
   ]
  },
  {
   "cell_type": "code",
   "execution_count": 13,
   "id": "6d979fca",
   "metadata": {},
   "outputs": [
    {
     "name": "stdout",
     "output_type": "stream",
     "text": [
      "Rio De Janeiro\n",
      "Rio de janeiro\n",
      "rio de janeiro\n",
      "RIO DE JANEIRO\n"
     ]
    }
   ],
   "source": [
    "nome_cidade = \"rIo de JaNeiRo\"\n",
    "print(nome_cidade.title()) #cada palavra em letra maiuscula no começo\n",
    "print(nome_cidade.capitalize())\n",
    "print(nome_cidade.lower())\n",
    "print(nome_cidade.upper())"
   ]
  },
  {
   "cell_type": "markdown",
   "id": "7830d001",
   "metadata": {},
   "source": [
    "### Exemplo"
   ]
  },
  {
   "cell_type": "code",
   "execution_count": 14,
   "id": "5089fe3b",
   "metadata": {},
   "outputs": [
    {
     "name": "stdout",
     "output_type": "stream",
     "text": [
      "Qual é a cidade maravilhosa? Campinas\n",
      "Tente de novo.\n",
      "Qual é a cidade maravilhosa? Rio de Janeiroo\n",
      "Tente de novo.\n",
      "Qual é a cidade maravilhosa? Rio de janeiro\n",
      "Isso, é o Rio de janeiro\n"
     ]
    }
   ],
   "source": [
    "nome_cidade = input(\"Qual é a cidade maravilhosa? \")\n",
    "nome_cidade = nome_cidade.strip()\n",
    "while nome_cidade.lower() != \"rio de janeiro\":\n",
    "    print(\"Tente de novo.\")\n",
    "    nome_cidade = input(\"Qual é a cidade maravilhosa? \")\n",
    "print(\"Isso, é o {}\".format(nome_cidade))"
   ]
  },
  {
   "cell_type": "markdown",
   "id": "ec42bd5b",
   "metadata": {},
   "source": [
    "# Verificar se um valor textual esta dentro de uma string"
   ]
  },
  {
   "cell_type": "code",
   "execution_count": 15,
   "id": "e111ce75",
   "metadata": {},
   "outputs": [
    {
     "name": "stdout",
     "output_type": "stream",
     "text": [
      "True\n"
     ]
    }
   ],
   "source": [
    "msg = \"Carlos estava estudando\"\n",
    "fui_citado = \"Carlos\" in msg\n",
    "print(fui_citado)"
   ]
  },
  {
   "cell_type": "markdown",
   "id": "7f47ce30",
   "metadata": {},
   "source": [
    "# Documentação de Strings do Python"
   ]
  },
  {
   "cell_type": "markdown",
   "id": "f5d44771",
   "metadata": {},
   "source": [
    "### https://docs.python.org/3.8/library/stdtypes.html#str"
   ]
  },
  {
   "cell_type": "code",
   "execution_count": null,
   "id": "bda9357e",
   "metadata": {},
   "outputs": [],
   "source": []
  }
 ],
 "metadata": {
  "kernelspec": {
   "display_name": "Python 3 (ipykernel)",
   "language": "python",
   "name": "python3"
  },
  "language_info": {
   "codemirror_mode": {
    "name": "ipython",
    "version": 3
   },
   "file_extension": ".py",
   "mimetype": "text/x-python",
   "name": "python",
   "nbconvert_exporter": "python",
   "pygments_lexer": "ipython3",
   "version": "3.8.10"
  }
 },
 "nbformat": 4,
 "nbformat_minor": 5
}
