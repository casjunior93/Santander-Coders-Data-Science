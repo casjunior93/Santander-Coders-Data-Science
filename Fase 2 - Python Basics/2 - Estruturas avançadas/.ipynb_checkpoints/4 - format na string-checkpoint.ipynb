{
 "cells": [
  {
   "cell_type": "code",
   "execution_count": 2,
   "id": "d8c5f8f1",
   "metadata": {},
   "outputs": [
    {
     "name": "stdout",
     "output_type": "stream",
     "text": [
      "Olá, Carlos\n"
     ]
    }
   ],
   "source": [
    "cumprimento = \"Olá, \"\n",
    "nome = \"Carlos\"\n",
    "print(cumprimento + nome)"
   ]
  },
  {
   "cell_type": "code",
   "execution_count": 3,
   "id": "7d060a4f",
   "metadata": {},
   "outputs": [
    {
     "name": "stdout",
     "output_type": "stream",
     "text": [
      "CarlosCarlosCarlosCarlosCarlos\n"
     ]
    }
   ],
   "source": [
    "print(nome * 5)"
   ]
  },
  {
   "cell_type": "code",
   "execution_count": 6,
   "id": "68fbfe73",
   "metadata": {},
   "outputs": [
    {
     "name": "stdout",
     "output_type": "stream",
     "text": [
      "Felipe tem 35 anos e 2 filhos\n"
     ]
    }
   ],
   "source": [
    "nome = \"Felipe\"\n",
    "idade = 35\n",
    "filhos = 2\n",
    "print(\"{} tem {} anos e {} filhos\".format(nome, idade, filhos))"
   ]
  },
  {
   "cell_type": "code",
   "execution_count": 7,
   "id": "03464f4a",
   "metadata": {},
   "outputs": [
    {
     "name": "stdout",
     "output_type": "stream",
     "text": [
      "Preço da gasolina: 3.48\n"
     ]
    }
   ],
   "source": [
    "preco_gasolina = 3.476\n",
    "print(\"Preço da gasolina: {:.2f}\".format(preco_gasolina))"
   ]
  },
  {
   "cell_type": "markdown",
   "id": "715b8c63",
   "metadata": {},
   "source": [
    "# Atalho metodo format"
   ]
  },
  {
   "cell_type": "code",
   "execution_count": 11,
   "id": "57ed699e",
   "metadata": {},
   "outputs": [
    {
     "name": "stdout",
     "output_type": "stream",
     "text": [
      "Felipe tem 35 anos e 2 filhos.\n"
     ]
    }
   ],
   "source": [
    "nome = \"Felipe\"\n",
    "idade = 35\n",
    "filhos = 2\n",
    "print(f'{nome} tem {idade} anos e {filhos} filhos.')"
   ]
  },
  {
   "cell_type": "markdown",
   "id": "4a0a492b",
   "metadata": {},
   "source": [
    "# Variáveis em diferentes ordens"
   ]
  },
  {
   "cell_type": "code",
   "execution_count": 12,
   "id": "a5bedb23",
   "metadata": {},
   "outputs": [
    {
     "name": "stdout",
     "output_type": "stream",
     "text": [
      "c, b e a\n"
     ]
    }
   ],
   "source": [
    "print('{2}, {1} e {0}'.format('a', 'b', 'c'))"
   ]
  },
  {
   "cell_type": "code",
   "execution_count": 13,
   "id": "0f3a2cf0",
   "metadata": {},
   "outputs": [
    {
     "name": "stdout",
     "output_type": "stream",
     "text": [
      "abracadabra\n"
     ]
    }
   ],
   "source": [
    "print('{0}{1}{0}'.format('abra', 'cad'))"
   ]
  },
  {
   "cell_type": "code",
   "execution_count": 18,
   "id": "cb1466ef",
   "metadata": {},
   "outputs": [
    {
     "name": "stdout",
     "output_type": "stream",
     "text": [
      " 1/ 8/2019\n"
     ]
    }
   ],
   "source": [
    "dia = 1\n",
    "mes = 8\n",
    "ano = 2019\n",
    "print('{:2d}/{:2d}/{:4d}'.format(dia, mes, ano))"
   ]
  },
  {
   "cell_type": "code",
   "execution_count": 20,
   "id": "ebd1a118",
   "metadata": {},
   "outputs": [
    {
     "name": "stdout",
     "output_type": "stream",
     "text": [
      "01/08/2019\n"
     ]
    }
   ],
   "source": [
    "data3 = '{:02d}/{:02d}/{:04d}'.format(dia, mes, ano)\n",
    "print(data3)"
   ]
  },
  {
   "cell_type": "markdown",
   "id": "b190ffa9",
   "metadata": {},
   "source": [
    "# saber mais sobre format"
   ]
  },
  {
   "cell_type": "markdown",
   "id": "1fd600db",
   "metadata": {},
   "source": [
    "### https://pyformat.info/"
   ]
  }
 ],
 "metadata": {
  "kernelspec": {
   "display_name": "Python 3 (ipykernel)",
   "language": "python",
   "name": "python3"
  },
  "language_info": {
   "codemirror_mode": {
    "name": "ipython",
    "version": 3
   },
   "file_extension": ".py",
   "mimetype": "text/x-python",
   "name": "python",
   "nbconvert_exporter": "python",
   "pygments_lexer": "ipython3",
   "version": "3.8.10"
  }
 },
 "nbformat": 4,
 "nbformat_minor": 5
}
