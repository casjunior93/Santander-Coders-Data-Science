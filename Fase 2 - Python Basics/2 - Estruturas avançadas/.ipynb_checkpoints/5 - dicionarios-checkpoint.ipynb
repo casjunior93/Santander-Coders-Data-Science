{
 "cells": [
  {
   "cell_type": "markdown",
   "id": "df36f706",
   "metadata": {},
   "source": [
    "# Dicionarios"
   ]
  },
  {
   "cell_type": "markdown",
   "id": "72869451",
   "metadata": {},
   "source": [
    "## Definido por { e }"
   ]
  },
  {
   "cell_type": "code",
   "execution_count": 2,
   "id": "0ece0459",
   "metadata": {},
   "outputs": [
    {
     "name": "stdout",
     "output_type": "stream",
     "text": [
      "{'cat': 'gato', 'cao': 'cao', 'mouse': 'rato'}\n"
     ]
    }
   ],
   "source": [
    "dicionario = {}\n",
    "dicionario['cat'] = 'gato'\n",
    "dicionario['cao'] = 'cao'\n",
    "dicionario['mouse'] = 'rato'\n",
    "print(dicionario)"
   ]
  },
  {
   "cell_type": "code",
   "execution_count": 3,
   "id": "7842482c",
   "metadata": {},
   "outputs": [
    {
     "name": "stdout",
     "output_type": "stream",
     "text": [
      "{'cat': 'gato', 'cao': 'cachorro', 'mouse': 'rato'}\n"
     ]
    }
   ],
   "source": [
    "dicionario['cao'] = 'cachorro'\n",
    "print(dicionario)"
   ]
  },
  {
   "cell_type": "code",
   "execution_count": 5,
   "id": "3abf5520",
   "metadata": {},
   "outputs": [
    {
     "name": "stdout",
     "output_type": "stream",
     "text": [
      "{'Curso': 'Python Pro', 'Linguagem': 'Python', 'Módulo': 2}\n"
     ]
    }
   ],
   "source": [
    "dicionario2 = {'Curso': 'Python Pro', 'Linguagem':'Python', 'Módulo':2}\n",
    "print(dicionario2)"
   ]
  },
  {
   "cell_type": "code",
   "execution_count": 6,
   "id": "f29a39cf",
   "metadata": {},
   "outputs": [
    {
     "name": "stdout",
     "output_type": "stream",
     "text": [
      "cat existe!\n"
     ]
    }
   ],
   "source": [
    "if 'cat' in dicionario:\n",
    "    print('cat existe!') # Sim\n",
    "if 'bird' in dicionario:\n",
    "    print('bird existe!') # Não\n",
    "if 'gato' in dicionario:\n",
    "    print('gato existe!') # Não"
   ]
  },
  {
   "cell_type": "markdown",
   "id": "6c365a0e",
   "metadata": {},
   "source": [
    "# Exibindo as chaves do dicionario"
   ]
  },
  {
   "cell_type": "code",
   "execution_count": 7,
   "id": "c3288730",
   "metadata": {},
   "outputs": [
    {
     "name": "stdout",
     "output_type": "stream",
     "text": [
      "dict_keys(['cat', 'cao', 'mouse'])\n"
     ]
    }
   ],
   "source": [
    "chaves = dicionario.keys()\n",
    "print(chaves)"
   ]
  },
  {
   "cell_type": "markdown",
   "id": "7f530b07",
   "metadata": {},
   "source": [
    "# Exibindo os valores"
   ]
  },
  {
   "cell_type": "code",
   "execution_count": 8,
   "id": "009223b2",
   "metadata": {},
   "outputs": [
    {
     "name": "stdout",
     "output_type": "stream",
     "text": [
      "dict_values(['gato', 'cachorro', 'rato'])\n"
     ]
    }
   ],
   "source": [
    "valores = dicionario.values()\n",
    "print(valores)"
   ]
  },
  {
   "cell_type": "markdown",
   "id": "018d37c2",
   "metadata": {},
   "source": [
    "# Lista de tuplas chave-valor"
   ]
  },
  {
   "cell_type": "code",
   "execution_count": 9,
   "id": "0012dd03",
   "metadata": {},
   "outputs": [
    {
     "name": "stdout",
     "output_type": "stream",
     "text": [
      "dict_items([('cat', 'gato'), ('cao', 'cachorro'), ('mouse', 'rato')])\n"
     ]
    }
   ],
   "source": [
    "itens = dicionario.items()\n",
    "print(itens)"
   ]
  },
  {
   "cell_type": "code",
   "execution_count": null,
   "id": "d1e9c699",
   "metadata": {},
   "outputs": [],
   "source": []
  }
 ],
 "metadata": {
  "kernelspec": {
   "display_name": "Python 3 (ipykernel)",
   "language": "python",
   "name": "python3"
  },
  "language_info": {
   "codemirror_mode": {
    "name": "ipython",
    "version": 3
   },
   "file_extension": ".py",
   "mimetype": "text/x-python",
   "name": "python",
   "nbconvert_exporter": "python",
   "pygments_lexer": "ipython3",
   "version": "3.8.10"
  }
 },
 "nbformat": 4,
 "nbformat_minor": 5
}
