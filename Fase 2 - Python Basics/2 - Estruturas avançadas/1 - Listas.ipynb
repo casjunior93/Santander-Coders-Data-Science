{
 "cells": [
  {
   "cell_type": "code",
   "execution_count": 1,
   "id": "b615efa7",
   "metadata": {},
   "outputs": [
    {
     "name": "stdout",
     "output_type": "stream",
     "text": [
      "['Brasil', 'Argentina', 'Chile', 'Canadá', 'Japão']\n"
     ]
    }
   ],
   "source": [
    "nome_paises = [\"Brasil\", \"Argentina\", \"Chile\",\"Canadá\", \"Japão\"]\n",
    "print(nome_paises)"
   ]
  },
  {
   "cell_type": "code",
   "execution_count": 2,
   "id": "52a192b2",
   "metadata": {},
   "outputs": [
    {
     "name": "stdout",
     "output_type": "stream",
     "text": [
      "Tamanho da lista:  5\n"
     ]
    }
   ],
   "source": [
    "print(\"Tamanho da lista: \",len(nome_paises))"
   ]
  },
  {
   "cell_type": "code",
   "execution_count": 4,
   "id": "b0d42b84",
   "metadata": {},
   "outputs": [
    {
     "name": "stdout",
     "output_type": "stream",
     "text": [
      "País:  Japão\n",
      "País:  Japão\n"
     ]
    }
   ],
   "source": [
    "print(\"País: \",nome_paises[4])\n",
    "print(\"País: \",nome_paises[-1])"
   ]
  },
  {
   "cell_type": "markdown",
   "id": "b5c2f8c6",
   "metadata": {},
   "source": [
    "#reatribuição"
   ]
  },
  {
   "cell_type": "code",
   "execution_count": 5,
   "id": "858eba48",
   "metadata": {},
   "outputs": [
    {
     "name": "stdout",
     "output_type": "stream",
     "text": [
      "['Brasil', 'Argentina', 'Chile', 'Canadá', 'Colômbia']\n"
     ]
    }
   ],
   "source": [
    "nome_paises[4] = \"Colômbia\"\n",
    "print(nome_paises)"
   ]
  },
  {
   "cell_type": "markdown",
   "id": "e5efa520",
   "metadata": {},
   "source": [
    "# Fatiamento"
   ]
  },
  {
   "cell_type": "code",
   "execution_count": 17,
   "id": "58e1a16d",
   "metadata": {},
   "outputs": [
    {
     "data": {
      "text/plain": [
       "['Brasil', 'Argentina', 'Chile', 'Canadá', 'Colômbia']"
      ]
     },
     "execution_count": 17,
     "metadata": {},
     "output_type": "execute_result"
    }
   ],
   "source": [
    "nome_paises[0:5]"
   ]
  },
  {
   "cell_type": "code",
   "execution_count": 18,
   "id": "0961e0fb",
   "metadata": {},
   "outputs": [
    {
     "name": "stdout",
     "output_type": "stream",
     "text": [
      "['Argentina', 'Chile', 'Canadá']\n"
     ]
    }
   ],
   "source": [
    "print(nome_paises[1:-1])"
   ]
  },
  {
   "cell_type": "code",
   "execution_count": 19,
   "id": "2901a632",
   "metadata": {},
   "outputs": [
    {
     "name": "stdout",
     "output_type": "stream",
     "text": [
      "['Chile', 'Canadá', 'Colômbia']\n",
      "['Brasil', 'Argentina', 'Chile']\n"
     ]
    }
   ],
   "source": [
    "print(nome_paises[2:])\n",
    "print(nome_paises[:3])"
   ]
  },
  {
   "cell_type": "code",
   "execution_count": 20,
   "id": "536a21a6",
   "metadata": {},
   "outputs": [
    {
     "name": "stdout",
     "output_type": "stream",
     "text": [
      "['Brasil', 'Argentina', 'Chile', 'Canadá', 'Colômbia']\n"
     ]
    }
   ],
   "source": [
    "print(nome_paises[:])"
   ]
  },
  {
   "cell_type": "code",
   "execution_count": 21,
   "id": "cd39c6ae",
   "metadata": {},
   "outputs": [
    {
     "name": "stdout",
     "output_type": "stream",
     "text": [
      "['Brasil', 'Chile', 'Colômbia']\n"
     ]
    }
   ],
   "source": [
    "print(nome_paises[::2])"
   ]
  },
  {
   "cell_type": "code",
   "execution_count": 22,
   "id": "3159ccc5",
   "metadata": {},
   "outputs": [
    {
     "name": "stdout",
     "output_type": "stream",
     "text": [
      "['Colômbia', 'Canadá', 'Chile', 'Argentina', 'Brasil']\n"
     ]
    }
   ],
   "source": [
    "print(nome_paises[::-1])"
   ]
  },
  {
   "cell_type": "markdown",
   "id": "d8c3f511",
   "metadata": {},
   "source": [
    "# Verificar se um elemento existe na lista"
   ]
  },
  {
   "cell_type": "code",
   "execution_count": 23,
   "id": "145a93c8",
   "metadata": {},
   "outputs": [
    {
     "name": "stdout",
     "output_type": "stream",
     "text": [
      "True\n"
     ]
    }
   ],
   "source": [
    "print(\"Brasil\" in nome_paises)"
   ]
  },
  {
   "cell_type": "code",
   "execution_count": 24,
   "id": "31e36ce4",
   "metadata": {},
   "outputs": [
    {
     "name": "stdout",
     "output_type": "stream",
     "text": [
      "False\n"
     ]
    }
   ],
   "source": [
    "print(\"Brasil\" not in nome_paises)"
   ]
  },
  {
   "cell_type": "markdown",
   "id": "1857b20e",
   "metadata": {},
   "source": [
    "# Adicionando elementos na lista"
   ]
  },
  {
   "cell_type": "code",
   "execution_count": 34,
   "id": "b54cb621",
   "metadata": {},
   "outputs": [
    {
     "name": "stdout",
     "output_type": "stream",
     "text": [
      "['Brasília']\n"
     ]
    }
   ],
   "source": [
    "lista_capitais = []\n",
    "lista_capitais.append(\"Brasília\")\n",
    "print(lista_capitais)"
   ]
  },
  {
   "cell_type": "code",
   "execution_count": 35,
   "id": "c48db2d8",
   "metadata": {},
   "outputs": [
    {
     "name": "stdout",
     "output_type": "stream",
     "text": [
      "[]\n"
     ]
    }
   ],
   "source": [
    "lista_capitais.remove(\"Brasília\")\n",
    "print(lista_capitais)"
   ]
  },
  {
   "cell_type": "code",
   "execution_count": 36,
   "id": "5a5856e4",
   "metadata": {},
   "outputs": [
    {
     "name": "stdout",
     "output_type": "stream",
     "text": [
      "['Brasília', 'São Paulo', 'Belo Horizonte']\n"
     ]
    }
   ],
   "source": [
    "lista_capitais.append(\"Brasília\")\n",
    "lista_capitais.append(\"São Paulo\")\n",
    "lista_capitais.append(\"Belo Horizonte\")\n",
    "print(lista_capitais)"
   ]
  },
  {
   "cell_type": "code",
   "execution_count": 38,
   "id": "3466ecb8",
   "metadata": {},
   "outputs": [
    {
     "name": "stdout",
     "output_type": "stream",
     "text": [
      "['Brasília', 'São Paulo', 'Palmas', 'Belo Horizonte']\n"
     ]
    }
   ],
   "source": [
    "lista_capitais.insert(2,\"Palmas\")\n",
    "print(lista_capitais)"
   ]
  },
  {
   "cell_type": "code",
   "execution_count": 39,
   "id": "83885731",
   "metadata": {},
   "outputs": [
    {
     "name": "stdout",
     "output_type": "stream",
     "text": [
      "['Brasília', 'São Paulo', 'Belo Horizonte']\n"
     ]
    }
   ],
   "source": [
    "lista_capitais.remove(\"Palmas\")\n",
    "print(lista_capitais)"
   ]
  },
  {
   "cell_type": "code",
   "execution_count": 40,
   "id": "45369299",
   "metadata": {},
   "outputs": [
    {
     "name": "stdout",
     "output_type": "stream",
     "text": [
      "['Brasília', 'Belo Horizonte'] São Paulo\n"
     ]
    }
   ],
   "source": [
    "removido = lista_capitais.pop(1)\n",
    "print(lista_capitais, removido)"
   ]
  },
  {
   "cell_type": "code",
   "execution_count": null,
   "id": "cdbad2a2",
   "metadata": {},
   "outputs": [],
   "source": []
  }
 ],
 "metadata": {
  "kernelspec": {
   "display_name": "Python 3 (ipykernel)",
   "language": "python",
   "name": "python3"
  },
  "language_info": {
   "codemirror_mode": {
    "name": "ipython",
    "version": 3
   },
   "file_extension": ".py",
   "mimetype": "text/x-python",
   "name": "python",
   "nbconvert_exporter": "python",
   "pygments_lexer": "ipython3",
   "version": "3.8.10"
  }
 },
 "nbformat": 4,
 "nbformat_minor": 5
}
