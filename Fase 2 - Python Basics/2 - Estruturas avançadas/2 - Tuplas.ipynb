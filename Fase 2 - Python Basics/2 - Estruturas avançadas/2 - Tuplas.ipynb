{
 "cells": [
  {
   "cell_type": "markdown",
   "id": "efa07678",
   "metadata": {},
   "source": [
    "# Tuplas"
   ]
  },
  {
   "cell_type": "markdown",
   "id": "a62b09ed",
   "metadata": {},
   "source": [
    "### Tuplas são imutáveis"
   ]
  },
  {
   "cell_type": "code",
   "execution_count": 1,
   "id": "d8c257ff",
   "metadata": {},
   "outputs": [],
   "source": [
    "nome_paises = (\"Brasil\",\"Argentina\",\"China\", \"Canadá\",\"Japão\")"
   ]
  },
  {
   "cell_type": "code",
   "execution_count": 2,
   "id": "3660b79b",
   "metadata": {},
   "outputs": [
    {
     "name": "stdout",
     "output_type": "stream",
     "text": [
      "<class 'tuple'>\n"
     ]
    }
   ],
   "source": [
    "nome_paises = \"Brasil\",\"Argentina\",\"China\", \"Canadá\",\"Japão\"\n",
    "print(type(nome_paises))"
   ]
  },
  {
   "cell_type": "code",
   "execution_count": 4,
   "id": "bb727942",
   "metadata": {},
   "outputs": [
    {
     "name": "stdout",
     "output_type": "stream",
     "text": [
      "<class 'tuple'>\n"
     ]
    }
   ],
   "source": [
    "nome_estados = \"São Paulo\",\n",
    "print(type(nome_estados))"
   ]
  },
  {
   "cell_type": "code",
   "execution_count": 5,
   "id": "4d9432c7",
   "metadata": {},
   "outputs": [
    {
     "name": "stdout",
     "output_type": "stream",
     "text": [
      "Brasil Argentina China Canadá Japão\n"
     ]
    }
   ],
   "source": [
    "a, b, c, d, e = nome_paises\n",
    "print(a, b, c, d, e)"
   ]
  },
  {
   "cell_type": "code",
   "execution_count": 6,
   "id": "2be274c4",
   "metadata": {},
   "outputs": [
    {
     "name": "stdout",
     "output_type": "stream",
     "text": [
      "Brasil Argentina China Canadá Japão\n"
     ]
    }
   ],
   "source": [
    "print(*nome_paises)"
   ]
  },
  {
   "cell_type": "code",
   "execution_count": 7,
   "id": "ec34cca2",
   "metadata": {},
   "outputs": [
    {
     "name": "stdout",
     "output_type": "stream",
     "text": [
      "5\n"
     ]
    }
   ],
   "source": [
    "print(len(nome_paises))"
   ]
  },
  {
   "cell_type": "code",
   "execution_count": null,
   "id": "47b52c09",
   "metadata": {},
   "outputs": [],
   "source": []
  }
 ],
 "metadata": {
  "kernelspec": {
   "display_name": "Python 3 (ipykernel)",
   "language": "python",
   "name": "python3"
  },
  "language_info": {
   "codemirror_mode": {
    "name": "ipython",
    "version": 3
   },
   "file_extension": ".py",
   "mimetype": "text/x-python",
   "name": "python",
   "nbconvert_exporter": "python",
   "pygments_lexer": "ipython3",
   "version": "3.8.10"
  }
 },
 "nbformat": 4,
 "nbformat_minor": 5
}
