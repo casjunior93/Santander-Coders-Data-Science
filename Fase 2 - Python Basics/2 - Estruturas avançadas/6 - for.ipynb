{
 "cells": [
  {
   "cell_type": "markdown",
   "id": "e4d54dc6",
   "metadata": {},
   "source": [
    "# Estrutura de repetição - For"
   ]
  },
  {
   "cell_type": "code",
   "execution_count": 1,
   "id": "aafce931",
   "metadata": {},
   "outputs": [
    {
     "name": "stdout",
     "output_type": "stream",
     "text": [
      "São Paulo\n",
      "Londres\n",
      "Tóquio\n",
      "Paris\n"
     ]
    }
   ],
   "source": [
    "nomes_cidades = [\"São Paulo\", \"Londres\", \"Tóquio\", \"Paris\"]\n",
    "for nome in nomes_cidades:\n",
    "    print(nome)"
   ]
  },
  {
   "cell_type": "code",
   "execution_count": 2,
   "id": "941742b6",
   "metadata": {},
   "outputs": [
    {
     "name": "stdout",
     "output_type": "stream",
     "text": [
      "São Paulo\n",
      "Londres\n",
      "Tóquio\n",
      "Paris\n"
     ]
    }
   ],
   "source": [
    "nomes_cidades = (\"São Paulo\", \"Londres\", \"Tóquio\", \"Paris\")\n",
    "for nome in nomes_cidades:\n",
    "    print(nome)"
   ]
  },
  {
   "cell_type": "code",
   "execution_count": 4,
   "id": "92a5312c",
   "metadata": {},
   "outputs": [
    {
     "name": "stdout",
     "output_type": "stream",
     "text": [
      "nome:São Paulo\n",
      "estado:SP\n",
      "populacao_milhoes:12.2\n"
     ]
    }
   ],
   "source": [
    "cidade = {\n",
    "    \"nome\" : \"São Paulo\",\n",
    "    \"estado\" : \"SP\",\n",
    "    \"populacao_milhoes\": 12.2\n",
    "}\n",
    "\n",
    "for chave in cidade:\n",
    "    print(f'{chave}:{cidade[chave]}')"
   ]
  },
  {
   "cell_type": "code",
   "execution_count": 5,
   "id": "38b4f74f",
   "metadata": {},
   "outputs": [
    {
     "name": "stdout",
     "output_type": "stream",
     "text": [
      "São Paulo\n",
      "Londres\n",
      "Tóquio\n",
      "Paris\n"
     ]
    }
   ],
   "source": [
    "nomes_cidades = [\"São Paulo\", \"Londres\", \"Tóquio\", \"Paris\"]\n",
    "for nome in nomes_cidades:\n",
    "    print(nome)"
   ]
  },
  {
   "cell_type": "code",
   "execution_count": 6,
   "id": "9f5e375e",
   "metadata": {},
   "outputs": [
    {
     "name": "stdout",
     "output_type": "stream",
     "text": [
      "['Rio De Janeiro', 'Rio De Janeiro', 'Rio De Janeiro', 'Rio De Janeiro']\n"
     ]
    }
   ],
   "source": [
    "for posicao in range(len(nomes_cidades)):\n",
    "    nomes_cidades[posicao] = \"Rio De Janeiro\"\n",
    "print(nomes_cidades)"
   ]
  },
  {
   "cell_type": "code",
   "execution_count": 10,
   "id": "9aedd298",
   "metadata": {},
   "outputs": [
    {
     "name": "stdout",
     "output_type": "stream",
     "text": [
      "[0, 1, 2, 3, 4, 5, 6, 7, 8, 9]\n",
      "[2, 3, 4, 5, 6, 7, 8, 9]\n",
      "[2, 4, 6, 8]\n",
      "[10, 8, 6, 4, 2]\n"
     ]
    }
   ],
   "source": [
    "print(list(range(10)))\n",
    "print(list(range(2,10)))\n",
    "print(list(range(2,10,2)))\n",
    "print(list(range(10,0,-2)))"
   ]
  },
  {
   "cell_type": "code",
   "execution_count": null,
   "id": "4927276c",
   "metadata": {},
   "outputs": [],
   "source": []
  }
 ],
 "metadata": {
  "kernelspec": {
   "display_name": "Python 3 (ipykernel)",
   "language": "python",
   "name": "python3"
  },
  "language_info": {
   "codemirror_mode": {
    "name": "ipython",
    "version": 3
   },
   "file_extension": ".py",
   "mimetype": "text/x-python",
   "name": "python",
   "nbconvert_exporter": "python",
   "pygments_lexer": "ipython3",
   "version": "3.8.10"
  }
 },
 "nbformat": 4,
 "nbformat_minor": 5
}
