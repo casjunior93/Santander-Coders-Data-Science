{
 "cells": [
  {
   "cell_type": "markdown",
   "id": "820c0e66",
   "metadata": {},
   "source": [
    "# Funções com quantidade de parâmetros variáveis"
   ]
  },
  {
   "cell_type": "code",
   "execution_count": 1,
   "id": "7dd82ebb",
   "metadata": {},
   "outputs": [],
   "source": [
    "def calcula_media(a=0, b=0, c=0):\n",
    "    return (a + b + c)/4"
   ]
  },
  {
   "cell_type": "code",
   "execution_count": 6,
   "id": "255d8084",
   "metadata": {},
   "outputs": [],
   "source": [
    "def calcula_media(*args):\n",
    "    return sum(args)/len(args)"
   ]
  },
  {
   "cell_type": "code",
   "execution_count": 8,
   "id": "85c8cbb3",
   "metadata": {},
   "outputs": [
    {
     "name": "stdout",
     "output_type": "stream",
     "text": [
      "9.0\n"
     ]
    }
   ],
   "source": [
    "print(calcula_media(10,8,9))"
   ]
  },
  {
   "cell_type": "code",
   "execution_count": 10,
   "id": "c9a4c611",
   "metadata": {},
   "outputs": [],
   "source": [
    "def calcula_media(*args, margem):\n",
    "    return sum(args)/len(args) + margem"
   ]
  },
  {
   "cell_type": "code",
   "execution_count": 11,
   "id": "f0c1da08",
   "metadata": {},
   "outputs": [
    {
     "name": "stdout",
     "output_type": "stream",
     "text": [
      "9.3\n"
     ]
    }
   ],
   "source": [
    "print(calcula_media(10,8,9, margem = 0.3))"
   ]
  },
  {
   "cell_type": "markdown",
   "id": "7fe2bfc9",
   "metadata": {},
   "source": [
    "# Keyword arguments"
   ]
  },
  {
   "cell_type": "code",
   "execution_count": 12,
   "id": "c99192ff",
   "metadata": {},
   "outputs": [],
   "source": [
    "def print_info(**kwargs):\n",
    "    print(kwargs, type(kwargs))"
   ]
  },
  {
   "cell_type": "code",
   "execution_count": 13,
   "id": "88bde7fc",
   "metadata": {},
   "outputs": [
    {
     "name": "stdout",
     "output_type": "stream",
     "text": [
      "{'nome': 'Carlos', 'sobrenome': 'Alberto'} <class 'dict'>\n"
     ]
    }
   ],
   "source": [
    "print_info(nome=\"Carlos\", sobrenome=\"Alberto\")"
   ]
  },
  {
   "cell_type": "code",
   "execution_count": null,
   "id": "20bf1343",
   "metadata": {},
   "outputs": [],
   "source": []
  }
 ],
 "metadata": {
  "kernelspec": {
   "display_name": "Python 3 (ipykernel)",
   "language": "python",
   "name": "python3"
  },
  "language_info": {
   "codemirror_mode": {
    "name": "ipython",
    "version": 3
   },
   "file_extension": ".py",
   "mimetype": "text/x-python",
   "name": "python",
   "nbconvert_exporter": "python",
   "pygments_lexer": "ipython3",
   "version": "3.8.10"
  }
 },
 "nbformat": 4,
 "nbformat_minor": 5
}
