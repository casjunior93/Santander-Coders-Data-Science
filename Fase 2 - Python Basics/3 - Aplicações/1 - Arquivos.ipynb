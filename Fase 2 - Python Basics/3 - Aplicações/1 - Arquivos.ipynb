{
 "cells": [
  {
   "cell_type": "markdown",
   "id": "3892b49a",
   "metadata": {},
   "source": [
    "# Abrindo e fechando arquivos"
   ]
  },
  {
   "cell_type": "markdown",
   "id": "83a5f4c1",
   "metadata": {},
   "source": [
    "Podemos criar arquivos novos ou abrir arquivos já existentes utilizando a função open. Ela possui 2 argumentos: o caminho do arquivo e o modo de operação.\n",
    "Após abrirmos (ou criarmos) um arquivo, podemos realizar diversas operações. Ao final de todas elas, devemos fechar o nosso arquivo usando a função close. Essa etapa é importante por 2 motivos:\n",
    "\n",
    "1 - Se alteramos o arquivo mas não o fechamos, as alterações não serão salvas;\n",
    "2 - Se esquecemos de fechar um arquivo, outros programas podem ter problemas ao acessá-lo."
   ]
  },
  {
   "cell_type": "markdown",
   "id": "0b3439c6",
   "metadata": {},
   "source": [
    "### Modos\n",
    "#### read - r - lê um arquivo\n",
    "#### write - w - cria ou sobrescreve um arquivo\n",
    "#### append - a - adiciona informações no final do arquivo\n",
    "####  update - + - ao ser combinado com outros modos, permite alteração de arquivo já existente (ex: r+ abre um arquivo existente e permite modificá-lo)"
   ]
  },
  {
   "cell_type": "markdown",
   "id": "c2c9f372",
   "metadata": {},
   "source": [
    "### Roteiro de manipulação"
   ]
  },
  {
   "cell_type": "markdown",
   "id": "3ab48061",
   "metadata": {},
   "source": [
    "1 - Abrir ou criar um arquivo"
   ]
  },
  {
   "cell_type": "code",
   "execution_count": 15,
   "id": "725e0ed2",
   "metadata": {},
   "outputs": [],
   "source": [
    "arquivocriado = open(\"criado.txt\", \"w\")\n",
    "arquivocriado.close()"
   ]
  },
  {
   "cell_type": "markdown",
   "id": "5ad7fbb5",
   "metadata": {},
   "source": [
    "A linha de comando acima abre (ou cria se não existe) um arquivo chamado \"criado.txt\" para escrita (\"w\", de write) e guarda na variável \"arquivocriado\" as informações para manipulá-lo."
   ]
  },
  {
   "cell_type": "code",
   "execution_count": 17,
   "id": "cd8aa210",
   "metadata": {},
   "outputs": [],
   "source": [
    "arquivolido = open(\"dom_casmurro.txt\")"
   ]
  },
  {
   "cell_type": "markdown",
   "id": "9ede818c",
   "metadata": {},
   "source": [
    "A linha acima lê (\"r\", de read) um arquivo já existente chamado \"dom_casmurro.txt\" e guarda na variável \"arquivolido\" as informações para manipulá-lo."
   ]
  },
  {
   "cell_type": "markdown",
   "id": "c3a045ac",
   "metadata": {},
   "source": [
    "2 - Carregar os dados do arquivo (leitura)"
   ]
  },
  {
   "cell_type": "code",
   "execution_count": 18,
   "id": "d246f15a",
   "metadata": {},
   "outputs": [
    {
     "name": "stdout",
     "output_type": "stream",
     "text": [
      "Dom Casmurro \n",
      "\n",
      "Texto de referenda: \n",
      "Obras Completas de Machado de Assis, vol. I, \n",
      "Nova Aguilar, Rio de Janeiro, 1994. \n",
      "Publicado originalmente pela Editora Gamier, Rio de Janeiro, 1899. \n",
      "\n",
      "\n",
      "CAPITULO PRIMEIRO \n",
      "DO TITULO \n",
      "\n",
      "Uma noite destas, vindo da cidade para o Engenho Novo, encontrei no trem da \n",
      "Central um rapaz aqui do bairro, que eu conhego de vista e de chapeu. \n",
      "Cumprimentou-me, sentou-se ao pe de mim, falou da Lua e dos ministros, e \n",
      "acabou recitando-me versos. A viagem era curta, e os versos pode ser que nao \n",
      "fossem inteiramente maus. Sucedeu, porem, que, como eu estava cansado, fechei \n",
      "os olhos tres ou quatro vezes; tanto bastou para que ele interrompesse a leitura e \n",
      "metesse os versos no bolso. \n",
      "\n",
      "— Continue, disse eu acordando. \n",
      "\n",
      "— Ja acabei, murmurou ele. \n",
      "\n",
      "— Sao muito bonitos. \n",
      "\n",
      "Vi-lhe fazer um gesto para tira-los outra vez do bolso, mas nao passou do gesto; \n",
      "estava amuado. No dia seguinte entrou a dizer de mim nomes feios, e acabou \n",
      "alcunhando-me Dom Casmurro. Os vizinhos, que nao gostam dos meus habitos \n",
      "reclusos e calados, deram curso a alcunha, que afinal pegou. Nem por isso me \n",
      "zanguei. Contei a anedota aos amigos da cidade, e eles, por graga, chamam-me \n",
      "assim, alguns em bilhetes: \"Dom Casmurro, domingo vou jantar com voce”.— \n",
      "\"Vou para Petropolis, Dom Casmurro; a casa e a mesma da Renania; ve se deixas \n",
      "essa caverna do Engenho Novo, e vai la passar uns quinze dias comigo\".— \"Meu \n",
      "caro Dom Casmurro, nao cuide que o dispenso do teatro amanha; venha e dormira \n",
      "aqui na cidade; dou-lhe camarote, dou-lhe cha, dou-lhe cama; so nao Ihe dou \n",
      "moga”. \n",
      "\n",
      "Nao consultes dicionarios. Casmurro nao esta aqui no sentido que eles Ihe dao, \n",
      "mas no que Ihe pos o vulgo de homem calado e metido consigo. Dom veio por \n",
      "ironia, para atribuir-me fumos de fidalgo. Tudo por estar cochilando! Tambem nao \n",
      "achei melhor titulo para a minha narracao; se nao tiver outro daqui ate ao fim do \n",
      "livro, vai este mesmo. O meu poeta do trem ficara sabendo que nao Ihe guardo \n",
      "rancor. E com pequeno esforco, sendo o titulo seu, podera cuidar que a obra e \n",
      "sua. Ha livros que apenas terao isso dos seus autores; alguns nem tanto. \n",
      "\n"
     ]
    }
   ],
   "source": [
    "dados = arquivolido.read()\n",
    "print(dados)\n",
    "arquivocriado.close()"
   ]
  },
  {
   "cell_type": "markdown",
   "id": "21f715d4",
   "metadata": {},
   "source": [
    "A função read() retorna todo o conteúdo do arquivo como uma string.\n",
    "\n",
    "Precisamos carregar o conteúdo do arquivo em algum formato que sabemos trabalhar. A read() carrega o conteúdo de um arquivo de texto em uma string."
   ]
  },
  {
   "cell_type": "markdown",
   "id": "8e2c2036",
   "metadata": {},
   "source": [
    "3 - Manipular os dados do arquivo (escrita)"
   ]
  },
  {
   "cell_type": "code",
   "execution_count": 21,
   "id": "33d54ed4",
   "metadata": {},
   "outputs": [],
   "source": [
    "arquivocriado = open(\"criado.txt\", \"w\")\n",
    "arquivocriado.write(\"linha 1\")\n",
    "arquivocriado.write(\"linha 2\")\n",
    "arquivocriado.write(\"linha 3\")\n",
    "arquivocriado.write(\"linha 4\")\n",
    "arquivocriado.write(\"linha 5\")\n",
    "arquivocriado.close()"
   ]
  },
  {
   "cell_type": "markdown",
   "id": "e9e7ee31",
   "metadata": {},
   "source": [
    "As modificações são salvas somente ao fechar o arquivo."
   ]
  },
  {
   "cell_type": "markdown",
   "id": "ce2183a3",
   "metadata": {},
   "source": [
    "### Comando with"
   ]
  },
  {
   "cell_type": "markdown",
   "id": "144bea5f",
   "metadata": {},
   "source": [
    "Um jeito mais inteligente de se trabalhar com arquivos é utilizar a sintaxe do \"with\". Ele garante que após a finalização do bloco, o arquivo será fechado."
   ]
  },
  {
   "cell_type": "code",
   "execution_count": 23,
   "id": "8bff5caf",
   "metadata": {},
   "outputs": [
    {
     "name": "stdout",
     "output_type": "stream",
     "text": [
      "Dom Casmurro \n",
      "\n",
      "Texto de referenda: \n",
      "Obras Completas de Machado de Assis, vol. I, \n",
      "Nova Aguilar, Rio de Janeiro, 1994. \n",
      "Publicado originalmente pela Editora Gamier, Rio de Janeiro, 1899. \n",
      "\n",
      "\n",
      "CAPITULO PRIMEIRO \n",
      "DO TITULO \n",
      "\n",
      "Uma noite destas, vindo da cidade para o Engenho Novo, encontrei no trem da \n",
      "Central um rapaz aqui do bairro, que eu conhego de vista e de chapeu. \n",
      "Cumprimentou-me, sentou-se ao pe de mim, falou da Lua e dos ministros, e \n",
      "acabou recitando-me versos. A viagem era curta, e os versos pode ser que nao \n",
      "fossem inteiramente maus. Sucedeu, porem, que, como eu estava cansado, fechei \n",
      "os olhos tres ou quatro vezes; tanto bastou para que ele interrompesse a leitura e \n",
      "metesse os versos no bolso. \n",
      "\n",
      "— Continue, disse eu acordando. \n",
      "\n",
      "— Ja acabei, murmurou ele. \n",
      "\n",
      "— Sao muito bonitos. \n",
      "\n",
      "Vi-lhe fazer um gesto para tira-los outra vez do bolso, mas nao passou do gesto; \n",
      "estava amuado. No dia seguinte entrou a dizer de mim nomes feios, e acabou \n",
      "alcunhando-me Dom Casmurro. Os vizinhos, que nao gostam dos meus habitos \n",
      "reclusos e calados, deram curso a alcunha, que afinal pegou. Nem por isso me \n",
      "zanguei. Contei a anedota aos amigos da cidade, e eles, por graga, chamam-me \n",
      "assim, alguns em bilhetes: \"Dom Casmurro, domingo vou jantar com voce”.— \n",
      "\"Vou para Petropolis, Dom Casmurro; a casa e a mesma da Renania; ve se deixas \n",
      "essa caverna do Engenho Novo, e vai la passar uns quinze dias comigo\".— \"Meu \n",
      "caro Dom Casmurro, nao cuide que o dispenso do teatro amanha; venha e dormira \n",
      "aqui na cidade; dou-lhe camarote, dou-lhe cha, dou-lhe cama; so nao Ihe dou \n",
      "moga”. \n",
      "\n",
      "Nao consultes dicionarios. Casmurro nao esta aqui no sentido que eles Ihe dao, \n",
      "mas no que Ihe pos o vulgo de homem calado e metido consigo. Dom veio por \n",
      "ironia, para atribuir-me fumos de fidalgo. Tudo por estar cochilando! Tambem nao \n",
      "achei melhor titulo para a minha narracao; se nao tiver outro daqui ate ao fim do \n",
      "livro, vai este mesmo. O meu poeta do trem ficara sabendo que nao Ihe guardo \n",
      "rancor. E com pequeno esforco, sendo o titulo seu, podera cuidar que a obra e \n",
      "sua. Ha livros que apenas terao isso dos seus autores; alguns nem tanto. \n",
      "\n"
     ]
    }
   ],
   "source": [
    "with open('dom_casmurro.txt', 'r') as arquivolido:\n",
    "   dados = arquivolido.read()\n",
    "   print(dados)"
   ]
  },
  {
   "cell_type": "markdown",
   "id": "a32947ad",
   "metadata": {},
   "source": [
    "É possível ler o arquivo linha a linha, como nos exemplos:"
   ]
  },
  {
   "cell_type": "code",
   "execution_count": 25,
   "id": "420cafef",
   "metadata": {},
   "outputs": [
    {
     "name": "stdout",
     "output_type": "stream",
     "text": [
      "Dom Casmurro \n",
      "#\n",
      "#Texto de referenda: \n",
      "#Obras Completas de Machado de Assis, vol. I, \n",
      "#Nova Aguilar, Rio de Janeiro, 1994. \n",
      "#Publicado originalmente pela Editora Gamier, Rio de Janeiro, 1899. \n",
      "#\n",
      "#\n",
      "#CAPITULO PRIMEIRO \n",
      "#DO TITULO \n",
      "#\n",
      "#Uma noite destas, vindo da cidade para o Engenho Novo, encontrei no trem da \n",
      "#Central um rapaz aqui do bairro, que eu conhego de vista e de chapeu. \n",
      "#Cumprimentou-me, sentou-se ao pe de mim, falou da Lua e dos ministros, e \n",
      "#acabou recitando-me versos. A viagem era curta, e os versos pode ser que nao \n",
      "#fossem inteiramente maus. Sucedeu, porem, que, como eu estava cansado, fechei \n",
      "#os olhos tres ou quatro vezes; tanto bastou para que ele interrompesse a leitura e \n",
      "#metesse os versos no bolso. \n",
      "#\n",
      "#— Continue, disse eu acordando. \n",
      "#\n",
      "#— Ja acabei, murmurou ele. \n",
      "#\n",
      "#— Sao muito bonitos. \n",
      "#\n",
      "#Vi-lhe fazer um gesto para tira-los outra vez do bolso, mas nao passou do gesto; \n",
      "#estava amuado. No dia seguinte entrou a dizer de mim nomes feios, e acabou \n",
      "#alcunhando-me Dom Casmurro. Os vizinhos, que nao gostam dos meus habitos \n",
      "#reclusos e calados, deram curso a alcunha, que afinal pegou. Nem por isso me \n",
      "#zanguei. Contei a anedota aos amigos da cidade, e eles, por graga, chamam-me \n",
      "#assim, alguns em bilhetes: \"Dom Casmurro, domingo vou jantar com voce”.— \n",
      "#\"Vou para Petropolis, Dom Casmurro; a casa e a mesma da Renania; ve se deixas \n",
      "#essa caverna do Engenho Novo, e vai la passar uns quinze dias comigo\".— \"Meu \n",
      "#caro Dom Casmurro, nao cuide que o dispenso do teatro amanha; venha e dormira \n",
      "#aqui na cidade; dou-lhe camarote, dou-lhe cha, dou-lhe cama; so nao Ihe dou \n",
      "#moga”. \n",
      "#\n",
      "#Nao consultes dicionarios. Casmurro nao esta aqui no sentido que eles Ihe dao, \n",
      "#mas no que Ihe pos o vulgo de homem calado e metido consigo. Dom veio por \n",
      "#ironia, para atribuir-me fumos de fidalgo. Tudo por estar cochilando! Tambem nao \n",
      "#achei melhor titulo para a minha narracao; se nao tiver outro daqui ate ao fim do \n",
      "#livro, vai este mesmo. O meu poeta do trem ficara sabendo que nao Ihe guardo \n",
      "#rancor. E com pequeno esforco, sendo o titulo seu, podera cuidar que a obra e \n",
      "#sua. Ha livros que apenas terao isso dos seus autores; alguns nem tanto. \n",
      "#"
     ]
    }
   ],
   "source": [
    "with open('dom_casmurro.txt', 'r') as arquivolido:\n",
    "   linha = arquivolido.readline()\n",
    "   while linha != '':\n",
    "       print(linha, end='#')\n",
    "       linha = arquivolido.readline()"
   ]
  },
  {
   "cell_type": "code",
   "execution_count": 27,
   "id": "164f4b83",
   "metadata": {},
   "outputs": [
    {
     "name": "stdout",
     "output_type": "stream",
     "text": [
      "Dom Casmurro \n",
      "#\n",
      "#Texto de referenda: \n",
      "#Obras Completas de Machado de Assis, vol. I, \n",
      "#Nova Aguilar, Rio de Janeiro, 1994. \n",
      "#Publicado originalmente pela Editora Gamier, Rio de Janeiro, 1899. \n",
      "#\n",
      "#\n",
      "#CAPITULO PRIMEIRO \n",
      "#DO TITULO \n",
      "#\n",
      "#Uma noite destas, vindo da cidade para o Engenho Novo, encontrei no trem da \n",
      "#Central um rapaz aqui do bairro, que eu conhego de vista e de chapeu. \n",
      "#Cumprimentou-me, sentou-se ao pe de mim, falou da Lua e dos ministros, e \n",
      "#acabou recitando-me versos. A viagem era curta, e os versos pode ser que nao \n",
      "#fossem inteiramente maus. Sucedeu, porem, que, como eu estava cansado, fechei \n",
      "#os olhos tres ou quatro vezes; tanto bastou para que ele interrompesse a leitura e \n",
      "#metesse os versos no bolso. \n",
      "#\n",
      "#— Continue, disse eu acordando. \n",
      "#\n",
      "#— Ja acabei, murmurou ele. \n",
      "#\n",
      "#— Sao muito bonitos. \n",
      "#\n",
      "#Vi-lhe fazer um gesto para tira-los outra vez do bolso, mas nao passou do gesto; \n",
      "#estava amuado. No dia seguinte entrou a dizer de mim nomes feios, e acabou \n",
      "#alcunhando-me Dom Casmurro. Os vizinhos, que nao gostam dos meus habitos \n",
      "#reclusos e calados, deram curso a alcunha, que afinal pegou. Nem por isso me \n",
      "#zanguei. Contei a anedota aos amigos da cidade, e eles, por graga, chamam-me \n",
      "#assim, alguns em bilhetes: \"Dom Casmurro, domingo vou jantar com voce”.— \n",
      "#\"Vou para Petropolis, Dom Casmurro; a casa e a mesma da Renania; ve se deixas \n",
      "#essa caverna do Engenho Novo, e vai la passar uns quinze dias comigo\".— \"Meu \n",
      "#caro Dom Casmurro, nao cuide que o dispenso do teatro amanha; venha e dormira \n",
      "#aqui na cidade; dou-lhe camarote, dou-lhe cha, dou-lhe cama; so nao Ihe dou \n",
      "#moga”. \n",
      "#\n",
      "#Nao consultes dicionarios. Casmurro nao esta aqui no sentido que eles Ihe dao, \n",
      "#mas no que Ihe pos o vulgo de homem calado e metido consigo. Dom veio por \n",
      "#ironia, para atribuir-me fumos de fidalgo. Tudo por estar cochilando! Tambem nao \n",
      "#achei melhor titulo para a minha narracao; se nao tiver outro daqui ate ao fim do \n",
      "#livro, vai este mesmo. O meu poeta do trem ficara sabendo que nao Ihe guardo \n",
      "#rancor. E com pequeno esforco, sendo o titulo seu, podera cuidar que a obra e \n",
      "#sua. Ha livros que apenas terao isso dos seus autores; alguns nem tanto. \n",
      "#"
     ]
    }
   ],
   "source": [
    "with open('dom_casmurro.txt', 'r') as arquivolido:\n",
    "    for linha in arquivolido:\n",
    "        print(linha, end='#')"
   ]
  },
  {
   "cell_type": "markdown",
   "id": "762ff852",
   "metadata": {},
   "source": [
    "O mesmo pode ser feito para escrever no arquivo:"
   ]
  },
  {
   "cell_type": "code",
   "execution_count": 28,
   "id": "5be0cec5",
   "metadata": {},
   "outputs": [],
   "source": [
    "with open('dom_casmurro.txt', 'r') as arquivolido:\n",
    "    with open('copiateste.txt', 'w') as arquivocriado:\n",
    "        for linha in arquivolido:\n",
    "            arquivocriado.write(linha)"
   ]
  },
  {
   "cell_type": "markdown",
   "id": "7d070e10",
   "metadata": {},
   "source": [
    "No comando acima, as linhas do arquivo \"teste.txt\" são copiadas e salvas no arquivo \"copiateste.txt\"."
   ]
  },
  {
   "cell_type": "code",
   "execution_count": null,
   "id": "9de79314",
   "metadata": {},
   "outputs": [],
   "source": []
  }
 ],
 "metadata": {
  "kernelspec": {
   "display_name": "Python 3 (ipykernel)",
   "language": "python",
   "name": "python3"
  },
  "language_info": {
   "codemirror_mode": {
    "name": "ipython",
    "version": 3
   },
   "file_extension": ".py",
   "mimetype": "text/x-python",
   "name": "python",
   "nbconvert_exporter": "python",
   "pygments_lexer": "ipython3",
   "version": "3.8.10"
  }
 },
 "nbformat": 4,
 "nbformat_minor": 5
}
