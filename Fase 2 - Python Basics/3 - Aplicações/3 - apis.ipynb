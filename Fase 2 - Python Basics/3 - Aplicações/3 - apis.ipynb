{
 "cells": [
  {
   "cell_type": "markdown",
   "id": "8b20c4a9",
   "metadata": {},
   "source": [
    "# Application Programming Interface"
   ]
  },
  {
   "cell_type": "markdown",
   "id": "cfa2b7ac",
   "metadata": {},
   "source": [
    "Documentação da Exchange Rate API: https://www.exchangerate-api.com/docs/free-exchange-rate-api"
   ]
  },
  {
   "cell_type": "code",
   "execution_count": 1,
   "id": "1ba5d9bf",
   "metadata": {},
   "outputs": [
    {
     "name": "stdout",
     "output_type": "stream",
     "text": [
      "Requirement already satisfied: requests in /usr/lib/python3/dist-packages (2.22.0)\r\n"
     ]
    }
   ],
   "source": [
    "!pip install requests"
   ]
  },
  {
   "cell_type": "code",
   "execution_count": 2,
   "id": "baab7c9e",
   "metadata": {},
   "outputs": [],
   "source": [
    "import requests"
   ]
  },
  {
   "cell_type": "code",
   "execution_count": 3,
   "id": "ca41954a",
   "metadata": {},
   "outputs": [],
   "source": [
    "url = \"https://api.exchangerate-api.com/v6/latest\""
   ]
  },
  {
   "cell_type": "code",
   "execution_count": 4,
   "id": "6f06e8cf",
   "metadata": {},
   "outputs": [
    {
     "name": "stdout",
     "output_type": "stream",
     "text": [
      "200\n"
     ]
    }
   ],
   "source": [
    "req = requests.get(url)\n",
    "print(req.status_code)"
   ]
  },
  {
   "cell_type": "code",
   "execution_count": 5,
   "id": "faeeb18e",
   "metadata": {},
   "outputs": [
    {
     "name": "stdout",
     "output_type": "stream",
     "text": [
      "{'result': 'success', 'provider': 'https://www.exchangerate-api.com', 'documentation': 'https://www.exchangerate-api.com/docs/free', 'WARNING_NEW_ENDPOINT': 'Swap *api.exchangerate-api.com* with *open.er-api.com* for better servers!', 'terms_of_use': 'https://www.exchangerate-api.com/terms', 'time_last_update_unix': 1625270551, 'time_last_update_utc': 'Sat, 03 Jul 2021 00:02:31 +0000', 'time_next_update_unix': 1625358061, 'time_next_update_utc': 'Sun, 04 Jul 2021 00:21:01 +0000', 'time_eol_unix': 0, 'base_code': 'USD', 'rates': {'USD': 1, 'AED': 3.67, 'AFN': 79.41, 'ALL': 102.76, 'AMD': 495.51, 'ANG': 1.79, 'AOA': 650.42, 'ARS': 95.76, 'AUD': 1.33, 'AWG': 1.79, 'AZN': 1.7, 'BAM': 1.65, 'BBD': 2, 'BDT': 84.64, 'BGN': 1.65, 'BHD': 0.376, 'BIF': 1969.41, 'BMD': 1, 'BND': 1.35, 'BOB': 6.88, 'BRL': 5.03, 'BSD': 1, 'BTN': 74.62, 'BWP': 10.98, 'BYN': 2.54, 'BZD': 2, 'CAD': 1.24, 'CDF': 1988.62, 'CHF': 0.923, 'CLP': 737.35, 'CNY': 6.47, 'COP': 3741.6, 'CRC': 619.47, 'CUC': 1, 'CUP': 25.75, 'CVE': 92.9, 'CZK': 21.58, 'DJF': 177.72, 'DKK': 6.29, 'DOP': 56.9, 'DZD': 134.05, 'EGP': 15.66, 'ERN': 15, 'ETB': 43.88, 'EUR': 0.843, 'FJD': 2.07, 'FKP': 0.724, 'FOK': 6.29, 'GBP': 0.724, 'GEL': 3.16, 'GGP': 0.724, 'GHS': 5.89, 'GIP': 0.724, 'GMD': 51.99, 'GNF': 9819.77, 'GTQ': 7.74, 'GYD': 209.12, 'HKD': 7.76, 'HNL': 23.87, 'HRK': 6.35, 'HTG': 92.89, 'HUF': 297.28, 'IDR': 14552.54, 'ILS': 3.28, 'IMP': 0.724, 'INR': 74.62, 'IQD': 1459.39, 'IRR': 41919.11, 'ISK': 124.43, 'JMD': 149.75, 'JOD': 0.709, 'JPY': 111.28, 'KES': 107.77, 'KGS': 84.69, 'KHR': 4073.15, 'KID': 1.33, 'KMF': 414.47, 'KRW': 1134.29, 'KWD': 0.3, 'KYD': 0.833, 'KZT': 426.38, 'LAK': 9469.93, 'LBP': 1507.5, 'LKR': 199.15, 'LRD': 171.04, 'LSL': 14.32, 'LYD': 4.51, 'MAD': 8.92, 'MDL': 18.03, 'MGA': 3909.86, 'MKD': 51.9, 'MMK': 1643.27, 'MNT': 2855.18, 'MOP': 8, 'MRU': 36.16, 'MUR': 42.73, 'MVR': 15.4, 'MWK': 799.32, 'MXN': 19.89, 'MYR': 4.16, 'MZN': 63.82, 'NAD': 14.32, 'NGN': 428.92, 'NIO': 35.07, 'NOK': 8.62, 'NPR': 119.39, 'NZD': 1.43, 'OMR': 0.384, 'PAB': 1, 'PEN': 3.87, 'PGK': 3.5, 'PHP': 49.3, 'PKR': 157.47, 'PLN': 3.81, 'PYG': 6735.24, 'QAR': 3.64, 'RON': 4.15, 'RSD': 99, 'RUB': 73.44, 'RWF': 1004.69, 'SAR': 3.75, 'SBD': 7.91, 'SCR': 14.71, 'SDG': 452.41, 'SEK': 8.57, 'SGD': 1.35, 'SHP': 0.724, 'SLL': 10270.95, 'SOS': 578.78, 'SRD': 20.85, 'SSP': 177.63, 'STN': 20.64, 'SYP': 1385.16, 'SZL': 14.32, 'THB': 32.15, 'TJS': 11.32, 'TMT': 3.5, 'TND': 2.77, 'TOP': 2.23, 'TRY': 8.69, 'TTD': 6.75, 'TVD': 1.33, 'TWD': 27.92, 'TZS': 2315.98, 'UAH': 27.33, 'UGX': 3555.76, 'UYU': 43.51, 'UZS': 10552.43, 'VES': 3234644.64, 'VND': 22964.79, 'VUV': 109.93, 'WST': 2.54, 'XAF': 552.63, 'XCD': 2.7, 'XDR': 0.703, 'XOF': 552.63, 'XPF': 100.53, 'YER': 250.13, 'ZAR': 14.32, 'ZMW': 22.61}}\n"
     ]
    }
   ],
   "source": [
    "dados = req.json()\n",
    "print(dados)"
   ]
  },
  {
   "cell_type": "code",
   "execution_count": 6,
   "id": "686490a4",
   "metadata": {},
   "outputs": [
    {
     "name": "stdout",
     "output_type": "stream",
     "text": [
      "Informe o valor em reais para ser convertido:\n",
      "30\n",
      "R$30.0 em dolar valem US$ 5.96\n"
     ]
    }
   ],
   "source": [
    "valor_reais = float(input(\"Informe o valor em reais para ser convertido:\\n\"))\n",
    "cotacao = dados['rates']['BRL']\n",
    "print(f'R${valor_reais} em dolar valem US$ {(valor_reais/cotacao):.2f}')"
   ]
  },
  {
   "cell_type": "markdown",
   "id": "f9da9c92",
   "metadata": {},
   "source": [
    "# Consumindo APIs em Python"
   ]
  },
  {
   "cell_type": "markdown",
   "id": "83fd2a85",
   "metadata": {},
   "source": [
    "As APIs são meios de nos conectarmos a recursos na internet. Portanto, já possuímos as ferramentas na mão desde os capítulos anteriores. Você irá construir a lógica para decidir o que você irá buscar/consultar, montará uma string seguindo o formato indicado pela documentação da API (como todos os exemplos deste capítulo). Em seguida você tratará a resposta de acordo:\n",
    "\n",
    "Se for JSON, utilize o método json da própria requests.\n",
    "Se for CSV, utilize o módulo CSV estudado anteriormente.\n",
    "Se for XML, podemos utilizar o módulo BeautifulSoup, que não será estudado aqui.\n",
    "Para outros formatos, provavelmente a solução mais fácil será baixar um módulo preparado para lidar com eles."
   ]
  },
  {
   "cell_type": "markdown",
   "id": "1169fc45",
   "metadata": {},
   "source": [
    "#### Descobrindo APIs: tem boas ideias e gostaria de saber se existe uma boa API para ajudar? Confira alguns bons repositórios de API organizados por categoria:"
   ]
  },
  {
   "cell_type": "markdown",
   "id": "5f1c536f",
   "metadata": {},
   "source": [
    "https://github.com/n0shake/public-apis"
   ]
  },
  {
   "cell_type": "markdown",
   "id": "1d6653ca",
   "metadata": {},
   "source": [
    "https://github.com/public-apis/public-apis"
   ]
  },
  {
   "cell_type": "markdown",
   "id": "85dd3ce7",
   "metadata": {},
   "source": [
    "https://any-api.com/"
   ]
  },
  {
   "cell_type": "markdown",
   "id": "34ac69c9",
   "metadata": {},
   "source": [
    "Sites de governos costumam ter uma grande riqueza de dados também. Segue abaixo algumas sugestões (oficiais ou mantidas por voluntários) com dados do Brasil como um todo. Experimente buscar por bases de dados de sua cidade ou estado!"
   ]
  },
  {
   "cell_type": "markdown",
   "id": "59a24aa7",
   "metadata": {},
   "source": [
    "http://www.transparencia.gov.br/swagger-ui.html"
   ]
  },
  {
   "cell_type": "markdown",
   "id": "bd18a5a7",
   "metadata": {},
   "source": [
    "http://www.dados.gov.br/"
   ]
  },
  {
   "cell_type": "markdown",
   "id": "29e12504",
   "metadata": {},
   "source": [
    "https://brasil.io/home/"
   ]
  },
  {
   "cell_type": "code",
   "execution_count": null,
   "id": "a4ecabc3",
   "metadata": {},
   "outputs": [],
   "source": []
  }
 ],
 "metadata": {
  "kernelspec": {
   "display_name": "Python 3 (ipykernel)",
   "language": "python",
   "name": "python3"
  },
  "language_info": {
   "codemirror_mode": {
    "name": "ipython",
    "version": 3
   },
   "file_extension": ".py",
   "mimetype": "text/x-python",
   "name": "python",
   "nbconvert_exporter": "python",
   "pygments_lexer": "ipython3",
   "version": "3.8.10"
  }
 },
 "nbformat": 4,
 "nbformat_minor": 5
}
