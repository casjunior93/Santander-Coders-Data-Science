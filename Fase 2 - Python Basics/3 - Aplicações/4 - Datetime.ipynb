{
 "cells": [
  {
   "cell_type": "markdown",
   "id": "b160a98e",
   "metadata": {},
   "source": [
    "# Datetime\n",
    "Para treinar o uso da biblioteca datetime, execute as funções do código a seguir, tentando prever os seus resultados:\n",
    "\n",
    "#objeto time (hora, minuto, segundo)\n",
    "#date (dia, mes, ano)\n",
    "#datetime (dia, mes,ano, hora, minuto, segundo)\n",
    "#timedelta - diferença entre data"
   ]
  },
  {
   "cell_type": "code",
   "execution_count": 2,
   "id": "8cbbbd2c",
   "metadata": {},
   "outputs": [
    {
     "name": "stdout",
     "output_type": "stream",
     "text": [
      "2021-07-03 2001-09-11\n",
      "2021-07-03\n",
      "-1743\n",
      "July 03, 2021\n",
      "2016-07-24 00:00:00\n"
     ]
    }
   ],
   "source": [
    "import datetime\n",
    "\n",
    "d = datetime.date(2001, 9, 11)\n",
    "tday = datetime.date.today()\n",
    "print(tday, d)\n",
    "\n",
    "\n",
    "# datetime.timedelta(days=0, seconds=0, microseconds=0, milliseconds=0, minutes=0, hours=0, weeks=0)\n",
    "\n",
    "tdelta = datetime.timedelta(hours=12)\n",
    "print(tday + tdelta)\n",
    "\n",
    "\n",
    "bday = datetime.date(2016, 9, 24)\n",
    "till_bday = bday - tday\n",
    "print(till_bday.days)\n",
    "\n",
    "dt_agora = datetime.datetime.now()\n",
    "print(dt_agora.strftime('%B %d, %Y'))\n",
    "\n",
    "dt_str = 'July 24, 2016'\n",
    "dt = datetime.datetime.strptime(dt_str, '%B %d, %Y')\n",
    "print(dt)\n",
    "\n",
    "# strftime - Datetime para String\n",
    "# strptime - String para Datetime"
   ]
  },
  {
   "cell_type": "markdown",
   "id": "9a03bb99",
   "metadata": {},
   "source": [
    "# Criação de datas"
   ]
  },
  {
   "cell_type": "code",
   "execution_count": 3,
   "id": "ceb9fff4",
   "metadata": {},
   "outputs": [
    {
     "name": "stdout",
     "output_type": "stream",
     "text": [
      "12:06:21.000007\n",
      "2020-04-25\n",
      "2020-04-25 12:06:21.000007\n"
     ]
    }
   ],
   "source": [
    "print(datetime.time(12,6,21,7))\n",
    "print(datetime.date(2020,4,25))\n",
    "print(datetime.datetime(2020,4,25,12,6,21,7))"
   ]
  },
  {
   "cell_type": "markdown",
   "id": "0effffc9",
   "metadata": {},
   "source": [
    "# Diferença de datas"
   ]
  },
  {
   "cell_type": "code",
   "execution_count": 4,
   "id": "e6f4a668",
   "metadata": {},
   "outputs": [
    {
     "name": "stdout",
     "output_type": "stream",
     "text": [
      "7 days, 0:00:00\n",
      "7\n",
      "0\n",
      "0\n"
     ]
    }
   ],
   "source": [
    "natal = datetime.date(2020,12,25)\n",
    "reveillon = datetime.date(2021,1,1)\n",
    "\n",
    "print((reveillon-natal))\n",
    "print((reveillon-natal).days)\n",
    "print((reveillon-natal).seconds)\n",
    "print((reveillon-natal).microseconds)"
   ]
  },
  {
   "cell_type": "code",
   "execution_count": null,
   "id": "5522b150",
   "metadata": {},
   "outputs": [],
   "source": []
  }
 ],
 "metadata": {
  "kernelspec": {
   "display_name": "Python 3 (ipykernel)",
   "language": "python",
   "name": "python3"
  },
  "language_info": {
   "codemirror_mode": {
    "name": "ipython",
    "version": 3
   },
   "file_extension": ".py",
   "mimetype": "text/x-python",
   "name": "python",
   "nbconvert_exporter": "python",
   "pygments_lexer": "ipython3",
   "version": "3.8.10"
  }
 },
 "nbformat": 4,
 "nbformat_minor": 5
}
